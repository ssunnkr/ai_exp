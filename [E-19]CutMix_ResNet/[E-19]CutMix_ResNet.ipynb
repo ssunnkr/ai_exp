{
 "cells": [
  {
   "cell_type": "markdown",
   "metadata": {},
   "source": [
    "# 19.프로젝트: CutMix 또는 Mixup 비교실험 하기\n",
    "##### !. VScode 플랫폼을 사용하여 가상환경 Python 3.9.7버전에서 작성되었습니다.\n"
   ]
  },
  {
   "cell_type": "markdown",
   "metadata": {},
   "source": [
    "---"
   ]
  },
  {
   "cell_type": "markdown",
   "metadata": {},
   "source": [
    "### 목차\n",
    "STEP 0. 주요 라이브러리 import.  \n",
    "STEP 1. Augmentation을 적용한 데이터셋 만들기  \n",
    "STEP 2. 모델 만들기  \n",
    "STEP 3. 모델 훈련하기  \n",
    "STEP 4. 훈련과정 시각화하기   \n",
    "STEP 5. Augmentation에 의한 모델 선능 비교  \n",
    "회고록   \n",
    "Reference"
   ]
  },
  {
   "cell_type": "markdown",
   "metadata": {},
   "source": [
    "---"
   ]
  },
  {
   "cell_type": "markdown",
   "metadata": {},
   "source": [
    "### (서론)\n"
   ]
  },
  {
   "cell_type": "markdown",
   "metadata": {},
   "source": [
    "---"
   ]
  },
  {
   "cell_type": "markdown",
   "metadata": {},
   "source": [
    "### (본문)"
   ]
  },
  {
   "cell_type": "markdown",
   "metadata": {},
   "source": [
    "### STEP 0. 주요 라이브러리 import"
   ]
  },
  {
   "cell_type": "markdown",
   "metadata": {},
   "source": [
    "### STEP 1. Augmentation을 적용한 데이터셋 만들기"
   ]
  },
  {
   "cell_type": "markdown",
   "metadata": {},
   "source": [
    "### STEP 2. 모델 만들기"
   ]
  },
  {
   "cell_type": "markdown",
   "metadata": {},
   "source": [
    "### STEP 3. 모델 훈련하기  "
   ]
  },
  {
   "cell_type": "markdown",
   "metadata": {},
   "source": [
    "### STEP 4. 훈련과정 시각화하기   "
   ]
  },
  {
   "cell_type": "markdown",
   "metadata": {},
   "source": [
    "### STEP 5. Augmentation에 의한 모델 선능 비교  \n"
   ]
  },
  {
   "cell_type": "markdown",
   "metadata": {},
   "source": [
    "---"
   ]
  },
  {
   "cell_type": "markdown",
   "metadata": {},
   "source": [
    "### 루브릭."
   ]
  },
  {
   "cell_type": "markdown",
   "metadata": {},
   "source": [
    "|평가문항|비고|상세기준|비고 |\n",
    "|:---|:---:|:---|---:|\n",
    "|CutMix와 MixUp 기법을 ResNet50 분류기에 성공적으로 적용하였는가? | |CutMix와 MixUp을 적용한 데이터셋으로 훈련한 각각의 ResNet 모델이 수렴하였다. | |\n",
    "|다양한 실험을 통해 태스크에 최적인 Augmentation 기법을 찾아내었는가? | |Augmentation 적용을 통해 Augmentaion 미적용시 대비 5% 이상의 성능향상을 확인함 | |\n",
    "|여러가지 Augmentation 기법을 적용한 결과를 체계적으로 비교분석하였는가? | |기본 Augmentation, CutMix, MixUp이 적용된 결과를 시각화와 함께 체계적으로 분석하였다. | |"
   ]
  },
  {
   "cell_type": "markdown",
   "metadata": {},
   "source": [
    "---"
   ]
  },
  {
   "cell_type": "markdown",
   "metadata": {},
   "source": [
    "### 회고록."
   ]
  },
  {
   "cell_type": "markdown",
   "metadata": {},
   "source": []
  },
  {
   "cell_type": "markdown",
   "metadata": {},
   "source": [
    "----"
   ]
  },
  {
   "cell_type": "markdown",
   "metadata": {},
   "source": [
    "### Reference. (APA)"
   ]
  },
  {
   "cell_type": "markdown",
   "metadata": {},
   "source": []
  },
  {
   "cell_type": "markdown",
   "metadata": {},
   "source": [
    "-----"
   ]
  },
  {
   "cell_type": "markdown",
   "metadata": {},
   "source": []
  }
 ],
 "metadata": {
  "interpreter": {
   "hash": "a59dc1dcb280767e1541beb883352acbe24e77c028211ef192031d7df32c832b"
  },
  "kernelspec": {
   "display_name": "Python 3.9.7 ('venv': venv)",
   "language": "python",
   "name": "python3"
  },
  "language_info": {
   "name": "python",
   "version": "3.9.7"
  },
  "orig_nbformat": 4
 },
 "nbformat": 4,
 "nbformat_minor": 2
}
