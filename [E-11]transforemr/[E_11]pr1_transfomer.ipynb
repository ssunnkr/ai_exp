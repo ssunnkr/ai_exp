{
  "cells": [
    {
      "cell_type": "markdown",
      "metadata": {
        "id": "HjqFqfkUUrJw"
      },
      "source": [
        "# 11.프로젝트: 한국어 데이터로 챗봇 만들기\n",
        "##### !. Google Colab Pro에서 작성 되었습니다.\n"
      ]
    },
    {
      "cell_type": "markdown",
      "source": [
        "### 목차\n",
        "STEP 0. 주요 라이브러리 import.  \n",
        "STEP 1. 데이터 수집하기  \n",
        "STEP 2. 데이터 전처리하기  \n",
        "STEP 3. SubwordTextEncoder 사용하기  \n",
        "STEP 4. 모델 구성하기  \n",
        "STEP 5. 모델 평가하기  \n",
        "회고록   \n",
        "Reference"
      ],
      "metadata": {
        "id": "2ne3CeoPnp6i"
      }
    },
    {
      "cell_type": "markdown",
      "metadata": {
        "id": "u7yjPZ6YUrJ4"
      },
      "source": [
        "---"
      ]
    },
    {
      "cell_type": "markdown",
      "metadata": {
        "id": "hgdDOJz1UrJ5"
      },
      "source": [
        "### (본문)"
      ]
    },
    {
      "cell_type": "markdown",
      "metadata": {
        "id": "IQFZygm_UrJ6"
      },
      "source": [
        "### STEP 0: 주요 라이브러리 import"
      ]
    },
    {
      "cell_type": "code",
      "source": [
        "import tensorflow as tf\n",
        "import tensorflow_datasets as tfds\n",
        "import os\n",
        "import re\n",
        "import numpy as np\n",
        "import pandas as pd\n",
        "import matplotlib.pyplot as plt\n",
        "print(\"주요라이브러리 import 완료\")"
      ],
      "metadata": {
        "colab": {
          "base_uri": "https://localhost:8080/"
        },
        "id": "w7fhpMTgVEvW",
        "outputId": "8b014433-30c4-43d5-aacb-0f0bdbde8cde"
      },
      "execution_count": 5,
      "outputs": [
        {
          "output_type": "stream",
          "name": "stdout",
          "text": [
            "주요라이브러리 import 완료\n"
          ]
        }
      ]
    },
    {
      "cell_type": "markdown",
      "metadata": {
        "id": "AtOWdo5jUrJ6"
      },
      "source": [
        "### STEP 1: 데이터 수집하기"
      ]
    },
    {
      "cell_type": "markdown",
      "metadata": {
        "id": "L-XTt0mFUrJ7"
      },
      "source": [
        "한국어 챗봇 데이터는 송역숙님 공개한 챗봇 데이터를 사용.  \n",
        "link: https://github.com/songys/Chatbot_data/blob/master/ChatbotData.csv  \n",
        "질문에 챗봇이 위로한다는 취지로 답변을 작성  \n",
        "챗봇 트레이닝용 문답 페이 11,823개  \n",
        "일상다반사(중립) 0, 이별(부정) 1, 사랑(긍정) 2로 레이블링  \n",
        "중립 0: 5290개  \n",
        "부정 1: 3570개  \n",
        "긍정 2: 2963개  \n",
        "결측치 없음  "
      ]
    },
    {
      "cell_type": "code",
      "source": [
        "data = pd.read_csv('/content/drive/MyDrive/Colab_Notebooks/E_11_transformer/ChatbotData.csv')"
      ],
      "metadata": {
        "id": "OrwZNfZiVDRm"
      },
      "execution_count": 6,
      "outputs": []
    },
    {
      "cell_type": "code",
      "source": [
        "%%capture\n",
        "data"
      ],
      "metadata": {
        "id": "X9y4-eItoJv9"
      },
      "execution_count": 69,
      "outputs": []
    },
    {
      "cell_type": "markdown",
      "source": [
        "총 11823열의 한국어 문답 데이터가 담겨 있는 파알  \n",
        "데이터가 길기에 %%caoutre을 사용하여 생략"
      ],
      "metadata": {
        "id": "uLSyXgNIWsiU"
      }
    },
    {
      "cell_type": "markdown",
      "metadata": {
        "id": "jCOX4ws1UrJ8"
      },
      "source": [
        "### STEP 2: 데이터 전처리하기"
      ]
    },
    {
      "cell_type": "code",
      "source": [
        "# 전처리 함수\n",
        "def preprocess_sentence(sentence):\n",
        "    # 단어와 구두점(punctuation) 사이의 거리를 만듬.\n",
        "    # 예를 들어서 \"안녕하세요.\" => \"안녕하세요  .\"와 같이\n",
        "    # student와 온점 사이에 거리를 만듬.\n",
        "    sentence = re.sub(r\"([?.!,])\", r\" \\1 \", sentence)\n",
        "    sentence = re.sub(r'[\" \"]+', \" \", sentence)\n",
        "  \n",
        "    # 한글을 제외한 모든 문자를 공백인 ' '로 대체.\n",
        "    sentence = re.sub(r\"[^가-힣?.!,]+\", \" \", sentence)\n",
        "    sentence = sentence.strip()\n",
        "    return sentence"
      ],
      "metadata": {
        "id": "LO4nTsznW00D"
      },
      "execution_count": 8,
      "outputs": []
    },
    {
      "cell_type": "code",
      "source": [
        "# 질문과 답변의 쌍인 데이터셋을 구성하기 위한 데이터 로드 함수\n",
        "def load_conversations():\n",
        "    inputs, outputs = [], []\n",
        "    for i in range(len(data)):\n",
        "        # 전처리 함수를 질문에 해당되는 inputs와 답변에 해당되는 outputs에 적용.\n",
        "        inputs.append(preprocess_sentence(data['Q'].values[i]))\n",
        "        outputs.append(preprocess_sentence(data['A'].values[i]))\n",
        "    return inputs, outputs"
      ],
      "metadata": {
        "id": "sqRldqwcW0xh"
      },
      "execution_count": 9,
      "outputs": []
    },
    {
      "cell_type": "code",
      "source": [
        "# 데이터를 로드하고 전처리하여 질문을 questions, 답변을 answers에 저장\n",
        "questions, answers = load_conversations()\n",
        "print('전체 샘플 수 :', len(questions))\n",
        "print('전체 샘플 수 :', len(answers))"
      ],
      "metadata": {
        "colab": {
          "base_uri": "https://localhost:8080/"
        },
        "id": "zVfoLph8W0vb",
        "outputId": "6f0d79d6-e529-4353-9d21-ec5367252495"
      },
      "execution_count": 10,
      "outputs": [
        {
          "output_type": "stream",
          "name": "stdout",
          "text": [
            "전체 샘플 수 : 11823\n",
            "전체 샘플 수 : 11823\n"
          ]
        }
      ]
    },
    {
      "cell_type": "code",
      "source": [
        "print('전처리 후의 15번째 질문 샘플: {}'.format(questions[16]))\n",
        "print('전처리 후의 15번째 답변 샘플: {}'.format(answers[16]))"
      ],
      "metadata": {
        "colab": {
          "base_uri": "https://localhost:8080/"
        },
        "id": "0oTbCpNvW0tP",
        "outputId": "0a0f9912-d4ab-4808-a534-f49415a42100"
      },
      "execution_count": 11,
      "outputs": [
        {
          "output_type": "stream",
          "name": "stdout",
          "text": [
            "전처리 후의 15번째 질문 샘플: 가상화폐 쫄딱 망함\n",
            "전처리 후의 15번째 답변 샘플: 어서 잊고 새출발 하세요 .\n"
          ]
        }
      ]
    },
    {
      "cell_type": "code",
      "source": [
        ""
      ],
      "metadata": {
        "id": "U1V_E9tEW0qt"
      },
      "execution_count": null,
      "outputs": []
    },
    {
      "cell_type": "code",
      "source": [
        ""
      ],
      "metadata": {
        "id": "SpOqul_AW0oB"
      },
      "execution_count": null,
      "outputs": []
    },
    {
      "cell_type": "code",
      "source": [
        ""
      ],
      "metadata": {
        "id": "645BoMqMW0eI"
      },
      "execution_count": null,
      "outputs": []
    },
    {
      "cell_type": "markdown",
      "metadata": {
        "id": "tfic4twLUrJ-"
      },
      "source": [
        "### STEP 3: SubwordTextEncoder 사용하기"
      ]
    },
    {
      "cell_type": "markdown",
      "source": [
        "단어장(Vocabulary) 만들기"
      ],
      "metadata": {
        "id": "MnP0UWS5oohr"
      }
    },
    {
      "cell_type": "code",
      "source": [
        "import tensorflow_datasets as tfds\n",
        "print(\"실행시간 long take\")\n",
        "\n",
        "# 질문과 답변 데이터셋에 대해서 Vocabulary 생성. (Tensorflow 2.3.0 이상) (클라우드는 2.4)\n",
        "tokenizer = tfds.deprecated.text.SubwordTextEncoder.build_from_corpus(questions + answers, target_vocab_size=2**13)\n",
        "print(\"데이터 셋 생성 완료\")"
      ],
      "metadata": {
        "colab": {
          "base_uri": "https://localhost:8080/"
        },
        "id": "YZOv4yJ-XGxN",
        "outputId": "5d021228-f207-4f76-9322-eb89cf51157e"
      },
      "execution_count": 12,
      "outputs": [
        {
          "output_type": "stream",
          "name": "stdout",
          "text": [
            "실행시간 long take\n",
            "데이터 셋 생성 완료\n"
          ]
        }
      ]
    },
    {
      "cell_type": "code",
      "source": [
        "# 시작 토큰과 종료 토큰에 고유한 정수를 부여.\n",
        "START_TOKEN, END_TOKEN = [tokenizer.vocab_size], [tokenizer.vocab_size + 1]\n",
        "print(\"시작, 종료 토근 고유 정수 부여 완료\")\n"
      ],
      "metadata": {
        "colab": {
          "base_uri": "https://localhost:8080/"
        },
        "id": "CK1aj7dyXGu6",
        "outputId": "2c5e08ad-c675-46d4-bf38-39c1b2ea3197"
      },
      "execution_count": 13,
      "outputs": [
        {
          "output_type": "stream",
          "name": "stdout",
          "text": [
            "시작, 종료 토근 고유 정수 부여 완료\n"
          ]
        }
      ]
    },
    {
      "cell_type": "code",
      "source": [
        "print('START_TOKEN의 번호 :' ,[tokenizer.vocab_size])\n",
        "print('END_TOKEN의 번호 :' ,[tokenizer.vocab_size + 1])\n"
      ],
      "metadata": {
        "colab": {
          "base_uri": "https://localhost:8080/"
        },
        "id": "8g5wRGk9XGsQ",
        "outputId": "6eb5c9df-e168-461d-9d78-1c2888fee98f"
      },
      "execution_count": 14,
      "outputs": [
        {
          "output_type": "stream",
          "name": "stdout",
          "text": [
            "START_TOKEN의 번호 : [8127]\n",
            "END_TOKEN의 번호 : [8128]\n"
          ]
        }
      ]
    },
    {
      "cell_type": "code",
      "source": [
        "# 시작 토큰과 종료 토큰을 고려하여 +2를 하여 단어장의 크기를 산정.\n",
        "VOCAB_SIZE = tokenizer.vocab_size + 2\n",
        "print(VOCAB_SIZE)"
      ],
      "metadata": {
        "colab": {
          "base_uri": "https://localhost:8080/"
        },
        "id": "rjDPFSRKXpw9",
        "outputId": "af54b053-2328-4293-e863-bbdc6029af3c"
      },
      "execution_count": 15,
      "outputs": [
        {
          "output_type": "stream",
          "name": "stdout",
          "text": [
            "8129\n"
          ]
        }
      ]
    },
    {
      "cell_type": "markdown",
      "source": [
        "각 단어를 고유한 정수로 인코딩(Integer encoding) & 패딩(Padding)"
      ],
      "metadata": {
        "id": "FXcW6x0Boe7H"
      }
    },
    {
      "cell_type": "code",
      "source": [
        "# 임의의 22번째 샘플에 대해서 정수 인코딩 작업을 수행.\n",
        "# 각 토큰을 고유한 정수로 변환\n",
        "print('정수 인코딩 후의 21번째 질문 샘플: {}'.format(tokenizer.encode(questions[21])))\n",
        "print('정수 인코딩 후의 21번째 답변 샘플: {}'.format(tokenizer.encode(answers[21])))"
      ],
      "metadata": {
        "colab": {
          "base_uri": "https://localhost:8080/"
        },
        "id": "sBnJUYbMXsxM",
        "outputId": "d31b40b5-637b-485a-ee95-5df00694b525"
      },
      "execution_count": 16,
      "outputs": [
        {
          "output_type": "stream",
          "name": "stdout",
          "text": [
            "정수 인코딩 후의 21번째 질문 샘플: [5742, 612, 2481, 4148]\n",
            "정수 인코딩 후의 21번째 답변 샘플: [2352, 7481, 7, 6245, 97, 1]\n"
          ]
        }
      ]
    },
    {
      "cell_type": "code",
      "source": [
        "# 샘플의 최대 허용 길이 또는 패딩 후의 최종 길이\n",
        "MAX_LENGTH = 40\n",
        "print(MAX_LENGTH)"
      ],
      "metadata": {
        "colab": {
          "base_uri": "https://localhost:8080/"
        },
        "id": "QEoaXfYyXvHH",
        "outputId": "be11fd81-4738-47a2-c80a-87467426cfae"
      },
      "execution_count": 17,
      "outputs": [
        {
          "output_type": "stream",
          "name": "stdout",
          "text": [
            "40\n"
          ]
        }
      ]
    },
    {
      "cell_type": "code",
      "source": [
        "# 정수 인코딩, 최대 길이를 초과하는 샘플 제거, 패딩\n",
        "def tokenize_and_filter(inputs, outputs):\n",
        "    tokenized_inputs, tokenized_outputs = [], []\n",
        "  \n",
        "    for (sentence1, sentence2) in zip(inputs, outputs):\n",
        "        # 정수 인코딩 과정에서 시작 토큰과 종료 토큰을 추가\n",
        "        sentence1 = START_TOKEN + tokenizer.encode(sentence1) + END_TOKEN\n",
        "        sentence2 = START_TOKEN + tokenizer.encode(sentence2) + END_TOKEN\n",
        "\n",
        "        # 최대 길이 40 이하인 경우에만 데이터셋으로 허용\n",
        "        if len(sentence1) <= MAX_LENGTH and len(sentence2) <= MAX_LENGTH:\n",
        "            tokenized_inputs.append(sentence1)\n",
        "            tokenized_outputs.append(sentence2)\n",
        "  \n",
        "    # 최대 길이 40으로 모든 데이터셋을 패딩\n",
        "    tokenized_inputs = tf.keras.preprocessing.sequence.pad_sequences(\n",
        "        tokenized_inputs, maxlen=MAX_LENGTH, padding='post')\n",
        "    tokenized_outputs = tf.keras.preprocessing.sequence.pad_sequences(\n",
        "        tokenized_outputs, maxlen=MAX_LENGTH, padding='post')\n",
        "  \n",
        "    return tokenized_inputs, tokenized_outputs"
      ],
      "metadata": {
        "id": "mR7paPnZXxvW"
      },
      "execution_count": 18,
      "outputs": []
    },
    {
      "cell_type": "code",
      "source": [
        "questions, answers = tokenize_and_filter(questions, answers)\n",
        "print('단어장의 크기 :',(VOCAB_SIZE))\n",
        "print('필터링 후의 질문 샘플 개수: {}'.format(len(questions)))\n",
        "print('필터링 후의 답변 샘플 개수: {}'.format(len(answers)))"
      ],
      "metadata": {
        "colab": {
          "base_uri": "https://localhost:8080/"
        },
        "id": "uNX5PVvcX3Yy",
        "outputId": "e02e7371-d923-4d87-d2a0-58b067872882"
      },
      "execution_count": 19,
      "outputs": [
        {
          "output_type": "stream",
          "name": "stdout",
          "text": [
            "단어장의 크기 : 8129\n",
            "필터링 후의 질문 샘플 개수: 11823\n",
            "필터링 후의 답변 샘플 개수: 11823\n"
          ]
        }
      ]
    },
    {
      "cell_type": "markdown",
      "source": [
        "교사 강요(Teacher Forcing) 사용하기"
      ],
      "metadata": {
        "id": "VQHOgxnJorK8"
      }
    },
    {
      "cell_type": "code",
      "source": [
        "BATCH_SIZE = 64\n",
        "BUFFER_SIZE = 20000\n",
        "\n",
        "# 디코더는 이전의 target을 다음의 input으로 사용.\n",
        "# 이에 따라 outputs에서는 START_TOKEN을 제거.\n",
        "dataset = tf.data.Dataset.from_tensor_slices((\n",
        "    {\n",
        "        'inputs': questions,\n",
        "        'dec_inputs': answers[:, :-1]\n",
        "    },\n",
        "    {\n",
        "        'outputs': answers[:, 1:]\n",
        "    },\n",
        "))\n",
        "\n",
        "dataset = dataset.cache()\n",
        "dataset = dataset.shuffle(BUFFER_SIZE)\n",
        "dataset = dataset.batch(BATCH_SIZE)\n",
        "dataset = dataset.prefetch(tf.data.experimental.AUTOTUNE)"
      ],
      "metadata": {
        "id": "_0mTSJImX5aB"
      },
      "execution_count": 21,
      "outputs": []
    },
    {
      "cell_type": "markdown",
      "metadata": {
        "id": "jmQDa9qmUrJ_"
      },
      "source": [
        "### STEP 4: 모델 구성하기"
      ]
    },
    {
      "cell_type": "markdown",
      "source": [
        "#### Transformer 모델 구현"
      ],
      "metadata": {
        "id": "bwk7ZhmeYBtB"
      }
    },
    {
      "cell_type": "markdown",
      "source": [
        "포지셔널 행렬 구하기  \n",
        "트랜스포머는 사인 함수, 코사인 함수 값을 임베딩 벡터에 더함(=단어의 순서 정보를 더함)  \n",
        "트랜스포머는 문장 단위로 입력받기 때문에 어순 정보가 필요.  "
      ],
      "metadata": {
        "id": "GveeU1Q5ow2_"
      }
    },
    {
      "cell_type": "code",
      "source": [
        "# 포지셔널 인코딩 레이어\n",
        "class PositionalEncoding(tf.keras.layers.Layer):\n",
        "\n",
        "  def __init__(self, position, d_model):\n",
        "    super(PositionalEncoding, self).__init__()\n",
        "    self.pos_encoding = self.positional_encoding(position, d_model)\n",
        "\n",
        "  def get_angles(self, position, i, d_model):\n",
        "    angles = 1 / tf.pow(10000, (2 * (i // 2)) / tf.cast(d_model, tf.float32))\n",
        "    return position * angles\n",
        "\n",
        "  def positional_encoding(self, position, d_model):\n",
        "    # 각도 배열 생성\n",
        "    angle_rads = self.get_angles(\n",
        "        position=tf.range(position, dtype=tf.float32)[:, tf.newaxis],\n",
        "        i=tf.range(d_model, dtype=tf.float32)[tf.newaxis, :],\n",
        "        d_model=d_model)\n",
        "\n",
        "    # 배열의 짝수 인덱스에는 sin 함수 적용\n",
        "    sines = tf.math.sin(angle_rads[:, 0::2])\n",
        "    # 배열의 홀수 인덱스에는 cosine 함수 적용\n",
        "    cosines = tf.math.cos(angle_rads[:, 1::2])\n",
        "\n",
        "    # sin과 cosine이 교차되도록 재배열\n",
        "    pos_encoding = tf.stack([sines, cosines], axis=0)\n",
        "    pos_encoding = tf.transpose(pos_encoding,[1, 2, 0]) \n",
        "    pos_encoding = tf.reshape(pos_encoding, [position, d_model])\n",
        "\n",
        "    pos_encoding = pos_encoding[tf.newaxis, ...]\n",
        "    return tf.cast(pos_encoding, tf.float32)\n",
        "\n",
        "  def call(self, inputs):\n",
        "    return inputs + self.pos_encoding[:, :tf.shape(inputs)[1], :]"
      ],
      "metadata": {
        "id": "x4GWkRmIX7I5"
      },
      "execution_count": 23,
      "outputs": []
    },
    {
      "cell_type": "markdown",
      "source": [
        "어텐션"
      ],
      "metadata": {
        "id": "uJG5JwAmo0ps"
      }
    },
    {
      "cell_type": "code",
      "source": [
        "# 스케일드 닷 프로덕트 어텐션 함수\n",
        "def scaled_dot_product_attention(query, key, value, mask):\n",
        "  # 어텐션 가중치는 Q와 K의 닷 프로덕트\n",
        "  matmul_qk = tf.matmul(query, key, transpose_b=True)\n",
        "\n",
        "  # 가중치를 정규화\n",
        "  depth = tf.cast(tf.shape(key)[-1], tf.float32)\n",
        "  logits = matmul_qk / tf.math.sqrt(depth)\n",
        "\n",
        "  # 패딩에 마스크 추가\n",
        "  if mask is not None:\n",
        "    logits += (mask * -1e9)\n",
        "\n",
        "  # softmax적용\n",
        "  attention_weights = tf.nn.softmax(logits, axis=-1)\n",
        "\n",
        "  # 최종 어텐션은 가중치와 V의 닷 프로덕트\n",
        "  output = tf.matmul(attention_weights, value)\n",
        "  return output"
      ],
      "metadata": {
        "id": "qumcejPIYKUR"
      },
      "execution_count": 24,
      "outputs": []
    },
    {
      "cell_type": "code",
      "source": [
        "class MultiHeadAttention(tf.keras.layers.Layer):\n",
        "\n",
        "  def __init__(self, d_model, num_heads, name=\"multi_head_attention\"):\n",
        "    super(MultiHeadAttention, self).__init__(name=name)\n",
        "    self.num_heads = num_heads\n",
        "    self.d_model = d_model\n",
        "\n",
        "    assert d_model % self.num_heads == 0\n",
        "\n",
        "    self.depth = d_model // self.num_heads\n",
        "\n",
        "    self.query_dense = tf.keras.layers.Dense(units=d_model)\n",
        "    self.key_dense = tf.keras.layers.Dense(units=d_model)\n",
        "    self.value_dense = tf.keras.layers.Dense(units=d_model)\n",
        "\n",
        "    self.dense = tf.keras.layers.Dense(units=d_model)\n",
        "\n",
        "  def split_heads(self, inputs, batch_size):\n",
        "    inputs = tf.reshape(\n",
        "        inputs, shape=(batch_size, -1, self.num_heads, self.depth))\n",
        "    return tf.transpose(inputs, perm=[0, 2, 1, 3])\n",
        "\n",
        "  def call(self, inputs):\n",
        "    query, key, value, mask = inputs['query'], inputs['key'], inputs[\n",
        "        'value'], inputs['mask']\n",
        "    batch_size = tf.shape(query)[0]\n",
        "\n",
        "    # Q, K, V에 각각 Dense를 적용.\n",
        "    query = self.query_dense(query)\n",
        "    key = self.key_dense(key)\n",
        "    value = self.value_dense(value)\n",
        "\n",
        "    # 병렬 연산을 위한 머리를 여러 개 만듬.\n",
        "    query = self.split_heads(query, batch_size)\n",
        "    key = self.split_heads(key, batch_size)\n",
        "    value = self.split_heads(value, batch_size)\n",
        "\n",
        "    # 스케일드 닷 프로덕트 어텐션 함수.\n",
        "    scaled_attention = scaled_dot_product_attention(query, key, value, mask)\n",
        "\n",
        "    scaled_attention = tf.transpose(scaled_attention, perm=[0, 2, 1, 3])\n",
        "\n",
        "    # 어텐션 연산 후에 각 결과를 다시 연결(concatenate).\n",
        "    concat_attention = tf.reshape(scaled_attention,\n",
        "                                  (batch_size, -1, self.d_model))\n",
        "\n",
        "    # 최종 결과에도 Dense를 한 번 더 적용.\n",
        "    outputs = self.dense(concat_attention)\n",
        "\n",
        "    return outputs"
      ],
      "metadata": {
        "id": "RtxaCn_VYKHo"
      },
      "execution_count": 25,
      "outputs": []
    },
    {
      "cell_type": "markdown",
      "source": [
        "마스킹"
      ],
      "metadata": {
        "id": "1K7FAAeso4pa"
      }
    },
    {
      "cell_type": "code",
      "source": [
        "# 패딩 마스킹\n",
        "def create_padding_mask(x):\n",
        "  mask = tf.cast(tf.math.equal(x, 0), tf.float32)\n",
        "  # (batch_size, 1, 1, sequence length)\n",
        "  return mask[:, tf.newaxis, tf.newaxis, :]"
      ],
      "metadata": {
        "id": "JhkQGQcbYRbf"
      },
      "execution_count": 26,
      "outputs": []
    },
    {
      "cell_type": "code",
      "source": [
        "# 룩 어헤드 마스킹\n",
        "def create_look_ahead_mask(x):\n",
        "  seq_len = tf.shape(x)[1]\n",
        "  look_ahead_mask = 1 - tf.linalg.band_part(tf.ones((seq_len, seq_len)), -1, 0)\n",
        "  padding_mask = create_padding_mask(x)\n",
        "  return tf.maximum(look_ahead_mask, padding_mask)"
      ],
      "metadata": {
        "id": "NEOGM9JOYRY1"
      },
      "execution_count": 27,
      "outputs": []
    },
    {
      "cell_type": "code",
      "source": [
        "# 인코더 하나의 레이어를 함수로 구현.\n",
        "# 이 하나의 레이어 안에는 두 개의 서브 레이어가 존재.\n",
        "def encoder_layer(units, d_model, num_heads, dropout, name=\"encoder_layer\"):\n",
        "  inputs = tf.keras.Input(shape=(None, d_model), name=\"inputs\")\n",
        "\n",
        "  # 패딩 마스크 사용\n",
        "  padding_mask = tf.keras.Input(shape=(1, 1, None), name=\"padding_mask\")\n",
        "\n",
        "  # 첫 번째 서브 레이어 : 멀티 헤드 어텐션 수행 (셀프 어텐션)\n",
        "  attention = MultiHeadAttention(\n",
        "      d_model, num_heads, name=\"attention\")({\n",
        "          'query': inputs,\n",
        "          'key': inputs,\n",
        "          'value': inputs,\n",
        "          'mask': padding_mask\n",
        "      })\n",
        "\n",
        "  # 어텐션의 결과는 Dropout과 Layer Normalization이라는 훈련을 돕는 테크닉을 수행\n",
        "  attention = tf.keras.layers.Dropout(rate=dropout)(attention)\n",
        "  attention = tf.keras.layers.LayerNormalization(\n",
        "      epsilon=1e-6)(inputs + attention)\n",
        "\n",
        "  # 두 번째 서브 레이어 : 2개의 완전연결층\n",
        "  outputs = tf.keras.layers.Dense(units=units, activation='relu')(attention)\n",
        "  outputs = tf.keras.layers.Dense(units=d_model)(outputs)\n",
        "\n",
        "  # 완전연결층의 결과는 Dropout과 LayerNormalization이라는 훈련을 돕는 테크닉을 수행\n",
        "  outputs = tf.keras.layers.Dropout(rate=dropout)(outputs)\n",
        "  outputs = tf.keras.layers.LayerNormalization(\n",
        "      epsilon=1e-6)(attention + outputs)\n",
        "\n",
        "  return tf.keras.Model(\n",
        "      inputs=[inputs, padding_mask], outputs=outputs, name=name)"
      ],
      "metadata": {
        "id": "WJ6IpCTuYZKX"
      },
      "execution_count": 28,
      "outputs": []
    },
    {
      "cell_type": "markdown",
      "source": [
        "인코더"
      ],
      "metadata": {
        "id": "wsJFHmqwo7qp"
      }
    },
    {
      "cell_type": "code",
      "source": [
        "def encoder(vocab_size,\n",
        "            num_layers,\n",
        "            units,\n",
        "            d_model,\n",
        "            num_heads,\n",
        "            dropout,\n",
        "            name=\"encoder\"):\n",
        "  inputs = tf.keras.Input(shape=(None,), name=\"inputs\")\n",
        "\n",
        "  # 패딩 마스크 사용\n",
        "  padding_mask = tf.keras.Input(shape=(1, 1, None), name=\"padding_mask\")\n",
        "\n",
        "  # 임베딩 레이어\n",
        "  embeddings = tf.keras.layers.Embedding(vocab_size, d_model)(inputs)\n",
        "  embeddings *= tf.math.sqrt(tf.cast(d_model, tf.float32))\n",
        "\n",
        "  # 포지셔널 인코딩\n",
        "  embeddings = PositionalEncoding(vocab_size, d_model)(embeddings)\n",
        "\n",
        "  outputs = tf.keras.layers.Dropout(rate=dropout)(embeddings)\n",
        "\n",
        "  # num_layers만큼 쌓아올린 인코더의 층.\n",
        "  for i in range(num_layers):\n",
        "    outputs = encoder_layer(\n",
        "        units=units,\n",
        "        d_model=d_model,\n",
        "        num_heads=num_heads,\n",
        "        dropout=dropout,\n",
        "        name=\"encoder_layer_{}\".format(i),\n",
        "    )([outputs, padding_mask])\n",
        "\n",
        "  return tf.keras.Model(\n",
        "      inputs=[inputs, padding_mask], outputs=outputs, name=name)"
      ],
      "metadata": {
        "id": "lqZA2qhYYZHt"
      },
      "execution_count": 29,
      "outputs": []
    },
    {
      "cell_type": "markdown",
      "source": [
        "디코더"
      ],
      "metadata": {
        "id": "0lJrqevno9qw"
      }
    },
    {
      "cell_type": "code",
      "source": [
        "# 디코더 하나의 레이어를 함수로 구현.\n",
        "# 이 하나의 레이어 안에는 세 개의 서브 레이어가 존재.\n",
        "def decoder_layer(units, d_model, num_heads, dropout, name=\"decoder_layer\"):\n",
        "  inputs = tf.keras.Input(shape=(None, d_model), name=\"inputs\")\n",
        "  enc_outputs = tf.keras.Input(shape=(None, d_model), name=\"encoder_outputs\")\n",
        "  look_ahead_mask = tf.keras.Input(\n",
        "      shape=(1, None, None), name=\"look_ahead_mask\")\n",
        "  padding_mask = tf.keras.Input(shape=(1, 1, None), name='padding_mask')\n",
        "\n",
        "  # 첫 번째 서브 레이어 : 멀티 헤드 어텐션 수행 (셀프 어텐션).\n",
        "  attention1 = MultiHeadAttention(\n",
        "      d_model, num_heads, name=\"attention_1\")(inputs={\n",
        "          'query': inputs,\n",
        "          'key': inputs,\n",
        "          'value': inputs,\n",
        "          'mask': look_ahead_mask\n",
        "      })\n",
        "\n",
        "  # 멀티 헤드 어텐션의 결과는 LayerNormalization이라는 훈련을 돕는 테크닉을 수행.\n",
        "  attention1 = tf.keras.layers.LayerNormalization(\n",
        "      epsilon=1e-6)(attention1 + inputs)\n",
        "\n",
        "  # 두 번째 서브 레이어 : 마스크드 멀티 헤드 어텐션 수행 (인코더-디코더 어텐션).\n",
        "  attention2 = MultiHeadAttention(\n",
        "      d_model, num_heads, name=\"attention_2\")(inputs={\n",
        "          'query': attention1,\n",
        "          'key': enc_outputs,\n",
        "          'value': enc_outputs,\n",
        "          'mask': padding_mask\n",
        "      })\n",
        "\n",
        "  # 마스크드 멀티 헤드 어텐션의 결과는 Dropout과 LayerNormalization이라는 훈련을 돕는 테크닉을 수행.\n",
        "  attention2 = tf.keras.layers.Dropout(rate=dropout)(attention2)\n",
        "  attention2 = tf.keras.layers.LayerNormalization(\n",
        "      epsilon=1e-6)(attention2 + attention1)\n",
        "\n",
        "  # 세 번째 서브 레이어 : 2개의 완전연결층.\n",
        "  outputs = tf.keras.layers.Dense(units=units, activation='relu')(attention2)\n",
        "  outputs = tf.keras.layers.Dense(units=d_model)(outputs)\n",
        "\n",
        "  # 완전연결층의 결과는 Dropout과 LayerNormalization 수행.\n",
        "  outputs = tf.keras.layers.Dropout(rate=dropout)(outputs)\n",
        "  outputs = tf.keras.layers.LayerNormalization(\n",
        "      epsilon=1e-6)(outputs + attention2)\n",
        "\n",
        "  return tf.keras.Model(\n",
        "      inputs=[inputs, enc_outputs, look_ahead_mask, padding_mask],\n",
        "      outputs=outputs,\n",
        "      name=name)"
      ],
      "metadata": {
        "id": "KvzK3NJbYZEN"
      },
      "execution_count": 30,
      "outputs": []
    },
    {
      "cell_type": "code",
      "source": [
        "def decoder(vocab_size,\n",
        "            num_layers,\n",
        "            units,\n",
        "            d_model,\n",
        "            num_heads,\n",
        "            dropout,\n",
        "            name='decoder'):\n",
        "  inputs = tf.keras.Input(shape=(None,), name='inputs')\n",
        "  enc_outputs = tf.keras.Input(shape=(None, d_model), name='encoder_outputs')\n",
        "  look_ahead_mask = tf.keras.Input(\n",
        "      shape=(1, None, None), name='look_ahead_mask')\n",
        "\n",
        "  # 패딩 마스크\n",
        "  padding_mask = tf.keras.Input(shape=(1, 1, None), name='padding_mask')\n",
        "  \n",
        "  # 임베딩 레이어\n",
        "  embeddings = tf.keras.layers.Embedding(vocab_size, d_model)(inputs)\n",
        "  embeddings *= tf.math.sqrt(tf.cast(d_model, tf.float32))\n",
        "\n",
        "  # 포지셔널 인코딩\n",
        "  embeddings = PositionalEncoding(vocab_size, d_model)(embeddings)\n",
        "\n",
        "  # Dropout이라는 훈련을 돕는 테크닉을 수행\n",
        "  outputs = tf.keras.layers.Dropout(rate=dropout)(embeddings)\n",
        "\n",
        "  for i in range(num_layers):\n",
        "    outputs = decoder_layer(\n",
        "        units=units,\n",
        "        d_model=d_model,\n",
        "        num_heads=num_heads,\n",
        "        dropout=dropout,\n",
        "        name='decoder_layer_{}'.format(i),\n",
        "    )(inputs=[outputs, enc_outputs, look_ahead_mask, padding_mask])\n",
        "\n",
        "  return tf.keras.Model(\n",
        "      inputs=[inputs, enc_outputs, look_ahead_mask, padding_mask],\n",
        "      outputs=outputs,\n",
        "      name=name)"
      ],
      "metadata": {
        "id": "molvQFBgYY_m"
      },
      "execution_count": 31,
      "outputs": []
    },
    {
      "cell_type": "markdown",
      "source": [
        "트랜스포머 함수 정의"
      ],
      "metadata": {
        "id": "3_1tvnD2pDZa"
      }
    },
    {
      "cell_type": "code",
      "source": [
        "def transformer(vocab_size,\n",
        "                num_layers,\n",
        "                units,\n",
        "                d_model,\n",
        "                num_heads,\n",
        "                dropout,\n",
        "                name=\"transformer\"):\n",
        "  inputs = tf.keras.Input(shape=(None,), name=\"inputs\")\n",
        "  dec_inputs = tf.keras.Input(shape=(None,), name=\"dec_inputs\")\n",
        "\n",
        "  # 인코더에서 패딩을 위한 마스크\n",
        "  enc_padding_mask = tf.keras.layers.Lambda(\n",
        "      create_padding_mask, output_shape=(1, 1, None),\n",
        "      name='enc_padding_mask')(inputs)\n",
        "\n",
        "  # 디코더에서 미래의 토큰을 마스크 하기 위해서 사용.\n",
        "  # 내부적으로 패딩 마스크도 포함되어져 있음.\n",
        "  look_ahead_mask = tf.keras.layers.Lambda(\n",
        "      create_look_ahead_mask,\n",
        "      output_shape=(1, None, None),\n",
        "      name='look_ahead_mask')(dec_inputs)\n",
        "\n",
        "  # 두 번째 어텐션 블록에서 인코더의 벡터들을 마스킹\n",
        "  # 디코더에서 패딩을 위한 마스크\n",
        "  dec_padding_mask = tf.keras.layers.Lambda(\n",
        "      create_padding_mask, output_shape=(1, 1, None),\n",
        "      name='dec_padding_mask')(inputs)\n",
        "\n",
        "  # 인코더\n",
        "  enc_outputs = encoder(\n",
        "      vocab_size=vocab_size,\n",
        "      num_layers=num_layers,\n",
        "      units=units,\n",
        "      d_model=d_model,\n",
        "      num_heads=num_heads,\n",
        "      dropout=dropout,\n",
        "  )(inputs=[inputs, enc_padding_mask])\n",
        "\n",
        "  # 디코더\n",
        "  dec_outputs = decoder(\n",
        "      vocab_size=vocab_size,\n",
        "      num_layers=num_layers,\n",
        "      units=units,\n",
        "      d_model=d_model,\n",
        "      num_heads=num_heads,\n",
        "      dropout=dropout,\n",
        "  )(inputs=[dec_inputs, enc_outputs, look_ahead_mask, dec_padding_mask])\n",
        "\n",
        "  # 완전연결층\n",
        "  outputs = tf.keras.layers.Dense(units=vocab_size, name=\"outputs\")(dec_outputs)\n",
        "\n",
        "  return tf.keras.Model(inputs=[inputs, dec_inputs], outputs=outputs, name=name)"
      ],
      "metadata": {
        "id": "-pwjJiBfYY3p"
      },
      "execution_count": 32,
      "outputs": []
    },
    {
      "cell_type": "markdown",
      "source": [
        "모델 생성"
      ],
      "metadata": {
        "id": "iP6V-5MypGJ9"
      }
    },
    {
      "cell_type": "code",
      "source": [
        "tf.keras.backend.clear_session()\n",
        "\n",
        "# 하이퍼파라미터\n",
        "NUM_LAYERS = 2 # 인코더와 디코더의 층의 개수\n",
        "D_MODEL = 256 # 인코더와 디코더 내부의 입, 출력의 고정 차원\n",
        "NUM_HEADS = 8 # 멀티 헤드 어텐션에서의 헤드 수 \n",
        "UNITS = 512 # 피드 포워드 신경망의 은닉층의 크기\n",
        "DROPOUT = 0.1 # 드롭아웃의 비율\n",
        "\n",
        "model = transformer(\n",
        "    vocab_size=VOCAB_SIZE,\n",
        "    num_layers=NUM_LAYERS,\n",
        "    units=UNITS,\n",
        "    d_model=D_MODEL,\n",
        "    num_heads=NUM_HEADS,\n",
        "    dropout=DROPOUT)\n",
        "\n",
        "model.summary()"
      ],
      "metadata": {
        "colab": {
          "base_uri": "https://localhost:8080/"
        },
        "id": "kZ1Lt_TSYY04",
        "outputId": "0896698f-c300-4c9d-df93-f44c4d030832"
      },
      "execution_count": 33,
      "outputs": [
        {
          "output_type": "stream",
          "name": "stdout",
          "text": [
            "Model: \"transformer\"\n",
            "__________________________________________________________________________________________________\n",
            " Layer (type)                   Output Shape         Param #     Connected to                     \n",
            "==================================================================================================\n",
            " inputs (InputLayer)            [(None, None)]       0           []                               \n",
            "                                                                                                  \n",
            " dec_inputs (InputLayer)        [(None, None)]       0           []                               \n",
            "                                                                                                  \n",
            " enc_padding_mask (Lambda)      (None, 1, 1, None)   0           ['inputs[0][0]']                 \n",
            "                                                                                                  \n",
            " encoder (Functional)           (None, None, 256)    3135232     ['inputs[0][0]',                 \n",
            "                                                                  'enc_padding_mask[0][0]']       \n",
            "                                                                                                  \n",
            " look_ahead_mask (Lambda)       (None, 1, None, Non  0           ['dec_inputs[0][0]']             \n",
            "                                e)                                                                \n",
            "                                                                                                  \n",
            " dec_padding_mask (Lambda)      (None, 1, 1, None)   0           ['inputs[0][0]']                 \n",
            "                                                                                                  \n",
            " decoder (Functional)           (None, None, 256)    3662592     ['dec_inputs[0][0]',             \n",
            "                                                                  'encoder[0][0]',                \n",
            "                                                                  'look_ahead_mask[0][0]',        \n",
            "                                                                  'dec_padding_mask[0][0]']       \n",
            "                                                                                                  \n",
            " outputs (Dense)                (None, None, 8129)   2089153     ['decoder[0][0]']                \n",
            "                                                                                                  \n",
            "==================================================================================================\n",
            "Total params: 8,886,977\n",
            "Trainable params: 8,886,977\n",
            "Non-trainable params: 0\n",
            "__________________________________________________________________________________________________\n"
          ]
        }
      ]
    },
    {
      "cell_type": "markdown",
      "source": [
        "손실 함수"
      ],
      "metadata": {
        "id": "6m-FxfvppKCc"
      }
    },
    {
      "cell_type": "code",
      "source": [
        "def loss_function(y_true, y_pred):\n",
        "  y_true = tf.reshape(y_true, shape=(-1, MAX_LENGTH - 1))\n",
        "  \n",
        "  loss = tf.keras.losses.SparseCategoricalCrossentropy(\n",
        "      from_logits=True, reduction='none')(y_true, y_pred)\n",
        "\n",
        "  mask = tf.cast(tf.not_equal(y_true, 0), tf.float32)\n",
        "  loss = tf.multiply(loss, mask)\n",
        "\n",
        "  return tf.reduce_mean(loss)\n"
      ],
      "metadata": {
        "id": "903lSkwYZCt-"
      },
      "execution_count": 34,
      "outputs": []
    },
    {
      "cell_type": "markdown",
      "source": [
        "커스텀 학습률"
      ],
      "metadata": {
        "id": "7_3Wu_VepMFH"
      }
    },
    {
      "cell_type": "code",
      "source": [
        "class CustomSchedule(tf.keras.optimizers.schedules.LearningRateSchedule):\n",
        "\n",
        "  def __init__(self, d_model, warmup_steps=4000):\n",
        "    super(CustomSchedule, self).__init__()\n",
        "\n",
        "    self.d_model = d_model\n",
        "    self.d_model = tf.cast(self.d_model, tf.float32)\n",
        "\n",
        "    self.warmup_steps = warmup_steps\n",
        "\n",
        "  def __call__(self, step):\n",
        "    arg1 = tf.math.rsqrt(step)\n",
        "    arg2 = step * (self.warmup_steps**-1.5)\n",
        "\n",
        "    return tf.math.rsqrt(self.d_model) * tf.math.minimum(arg1, arg2)"
      ],
      "metadata": {
        "id": "PSgE0_pMZE_S"
      },
      "execution_count": 35,
      "outputs": []
    },
    {
      "cell_type": "code",
      "source": [
        "sample_learning_rate = CustomSchedule(d_model=128)\n",
        "\n",
        "plt.plot(sample_learning_rate(tf.range(200000, dtype=tf.float32)))\n",
        "plt.ylabel(\"Learning Rate\")\n",
        "plt.xlabel(\"Train Step\")"
      ],
      "metadata": {
        "colab": {
          "base_uri": "https://localhost:8080/",
          "height": 297
        },
        "id": "hIlOoQ63ZGvQ",
        "outputId": "746b5cb4-2f1f-48ec-adbe-98faf07ef283"
      },
      "execution_count": 36,
      "outputs": [
        {
          "output_type": "execute_result",
          "data": {
            "text/plain": [
              "Text(0.5, 0, 'Train Step')"
            ]
          },
          "metadata": {},
          "execution_count": 36
        },
        {
          "output_type": "display_data",
          "data": {
            "text/plain": [
              "<Figure size 432x288 with 1 Axes>"
            ],
            "image/png": "[encoded data removed]"
          },
          "metadata": {
            "needs_background": "light"
          }
        }
      ]
    },
    {
      "cell_type": "markdown",
      "source": [
        "모델 컴파일"
      ],
      "metadata": {
        "id": "cC9zGjGXpPkB"
      }
    },
    {
      "cell_type": "code",
      "source": [
        "learning_rate = CustomSchedule(D_MODEL)\n",
        "\n",
        "optimizer = tf.keras.optimizers.Adam(\n",
        "    learning_rate, beta_1=0.9, beta_2=0.98, epsilon=1e-9)\n",
        "\n",
        "def accuracy(y_true, y_pred):\n",
        "  y_true = tf.reshape(y_true, shape=(-1, MAX_LENGTH - 1))\n",
        "  return tf.keras.metrics.sparse_categorical_accuracy(y_true, y_pred)\n",
        "\n",
        "model.compile(optimizer=optimizer, loss=loss_function, metrics=[accuracy])"
      ],
      "metadata": {
        "id": "rS6KtZLJZIfx"
      },
      "execution_count": 37,
      "outputs": []
    },
    {
      "cell_type": "markdown",
      "source": [
        "모델 훈련 100으로 설정"
      ],
      "metadata": {
        "id": "Ag0z0VpbpRhB"
      }
    },
    {
      "cell_type": "code",
      "source": [
        "EPOCHS = 100\n",
        "model.fit(dataset, epochs=EPOCHS, verbose=1)"
      ],
      "metadata": {
        "colab": {
          "base_uri": "https://localhost:8080/"
        },
        "id": "8o5T7FSQZKxl",
        "outputId": "1f4ed269-4f79-4b95-8608-8d9d561ae57b"
      },
      "execution_count": 38,
      "outputs": [
        {
          "output_type": "stream",
          "name": "stdout",
          "text": [
            "Epoch 1/100\n",
            "185/185 [==============================] - 19s 55ms/step - loss: 1.4454 - accuracy: 0.0309\n",
            "Epoch 2/100\n",
            "185/185 [==============================] - 10s 55ms/step - loss: 1.1740 - accuracy: 0.0494\n",
            "Epoch 3/100\n",
            "185/185 [==============================] - 11s 58ms/step - loss: 1.0035 - accuracy: 0.0505\n",
            "Epoch 4/100\n",
            "185/185 [==============================] - 11s 57ms/step - loss: 0.9276 - accuracy: 0.0543\n",
            "Epoch 5/100\n",
            "185/185 [==============================] - 10s 56ms/step - loss: 0.8688 - accuracy: 0.0578\n",
            "Epoch 6/100\n",
            "185/185 [==============================] - 10s 55ms/step - loss: 0.8081 - accuracy: 0.0620\n",
            "Epoch 7/100\n",
            "185/185 [==============================] - 10s 55ms/step - loss: 0.7426 - accuracy: 0.0679\n",
            "Epoch 8/100\n",
            "185/185 [==============================] - 11s 58ms/step - loss: 0.6702 - accuracy: 0.0760\n",
            "Epoch 9/100\n",
            "185/185 [==============================] - 11s 60ms/step - loss: 0.5915 - accuracy: 0.0845\n",
            "Epoch 10/100\n",
            "185/185 [==============================] - 11s 59ms/step - loss: 0.5104 - accuracy: 0.0937\n",
            "Epoch 11/100\n",
            "185/185 [==============================] - 11s 58ms/step - loss: 0.4268 - accuracy: 0.1041\n",
            "Epoch 12/100\n",
            "185/185 [==============================] - 11s 57ms/step - loss: 0.3466 - accuracy: 0.1148\n",
            "Epoch 13/100\n",
            "185/185 [==============================] - 10s 56ms/step - loss: 0.2728 - accuracy: 0.1256\n",
            "Epoch 14/100\n",
            "185/185 [==============================] - 11s 57ms/step - loss: 0.2071 - accuracy: 0.1356\n",
            "Epoch 15/100\n",
            "185/185 [==============================] - 11s 58ms/step - loss: 0.1524 - accuracy: 0.1451\n",
            "Epoch 16/100\n",
            "185/185 [==============================] - 10s 57ms/step - loss: 0.1107 - accuracy: 0.1527\n",
            "Epoch 17/100\n",
            "185/185 [==============================] - 10s 56ms/step - loss: 0.0810 - accuracy: 0.1580\n",
            "Epoch 18/100\n",
            "185/185 [==============================] - 10s 56ms/step - loss: 0.0620 - accuracy: 0.1616\n",
            "Epoch 19/100\n",
            "185/185 [==============================] - 10s 56ms/step - loss: 0.0518 - accuracy: 0.1632\n",
            "Epoch 20/100\n",
            "185/185 [==============================] - 10s 56ms/step - loss: 0.0458 - accuracy: 0.1643\n",
            "Epoch 21/100\n",
            "185/185 [==============================] - 10s 56ms/step - loss: 0.0436 - accuracy: 0.1645\n",
            "Epoch 22/100\n",
            "185/185 [==============================] - 10s 56ms/step - loss: 0.0414 - accuracy: 0.1650\n",
            "Epoch 23/100\n",
            "185/185 [==============================] - 10s 56ms/step - loss: 0.0379 - accuracy: 0.1654\n",
            "Epoch 24/100\n",
            "185/185 [==============================] - 10s 56ms/step - loss: 0.0334 - accuracy: 0.1667\n",
            "Epoch 25/100\n",
            "185/185 [==============================] - 10s 56ms/step - loss: 0.0287 - accuracy: 0.1678\n",
            "Epoch 26/100\n",
            "185/185 [==============================] - 10s 56ms/step - loss: 0.0255 - accuracy: 0.1686\n",
            "Epoch 27/100\n",
            "185/185 [==============================] - 10s 56ms/step - loss: 0.0223 - accuracy: 0.1694\n",
            "Epoch 28/100\n",
            "185/185 [==============================] - 10s 56ms/step - loss: 0.0216 - accuracy: 0.1697\n",
            "Epoch 29/100\n",
            "185/185 [==============================] - 10s 56ms/step - loss: 0.0188 - accuracy: 0.1704\n",
            "Epoch 30/100\n",
            "185/185 [==============================] - 10s 56ms/step - loss: 0.0173 - accuracy: 0.1707\n",
            "Epoch 31/100\n",
            "185/185 [==============================] - 10s 56ms/step - loss: 0.0158 - accuracy: 0.1711\n",
            "Epoch 32/100\n",
            "185/185 [==============================] - 10s 56ms/step - loss: 0.0147 - accuracy: 0.1713\n",
            "Epoch 33/100\n",
            "185/185 [==============================] - 10s 56ms/step - loss: 0.0138 - accuracy: 0.1716\n",
            "Epoch 34/100\n",
            "185/185 [==============================] - 10s 56ms/step - loss: 0.0130 - accuracy: 0.1717\n",
            "Epoch 35/100\n",
            "185/185 [==============================] - 10s 56ms/step - loss: 0.0121 - accuracy: 0.1721\n",
            "Epoch 36/100\n",
            "185/185 [==============================] - 10s 56ms/step - loss: 0.0113 - accuracy: 0.1722\n",
            "Epoch 37/100\n",
            "185/185 [==============================] - 10s 56ms/step - loss: 0.0109 - accuracy: 0.1724\n",
            "Epoch 38/100\n",
            "185/185 [==============================] - 10s 56ms/step - loss: 0.0095 - accuracy: 0.1726\n",
            "Epoch 39/100\n",
            "185/185 [==============================] - 10s 56ms/step - loss: 0.0097 - accuracy: 0.1725\n",
            "Epoch 40/100\n",
            "185/185 [==============================] - 10s 56ms/step - loss: 0.0090 - accuracy: 0.1727\n",
            "Epoch 41/100\n",
            "185/185 [==============================] - 10s 56ms/step - loss: 0.0085 - accuracy: 0.1730\n",
            "Epoch 42/100\n",
            "185/185 [==============================] - 10s 56ms/step - loss: 0.0085 - accuracy: 0.1729\n",
            "Epoch 43/100\n",
            "185/185 [==============================] - 10s 56ms/step - loss: 0.0081 - accuracy: 0.1731\n",
            "Epoch 44/100\n",
            "185/185 [==============================] - 10s 56ms/step - loss: 0.0076 - accuracy: 0.1730\n",
            "Epoch 45/100\n",
            "185/185 [==============================] - 10s 56ms/step - loss: 0.0071 - accuracy: 0.1732\n",
            "Epoch 46/100\n",
            "185/185 [==============================] - 10s 56ms/step - loss: 0.0073 - accuracy: 0.1732\n",
            "Epoch 47/100\n",
            "185/185 [==============================] - 10s 56ms/step - loss: 0.0067 - accuracy: 0.1734\n",
            "Epoch 48/100\n",
            "185/185 [==============================] - 10s 56ms/step - loss: 0.0065 - accuracy: 0.1733\n",
            "Epoch 49/100\n",
            "185/185 [==============================] - 10s 56ms/step - loss: 0.0067 - accuracy: 0.1734\n",
            "Epoch 50/100\n",
            "185/185 [==============================] - 10s 56ms/step - loss: 0.0061 - accuracy: 0.1734\n",
            "Epoch 51/100\n",
            "185/185 [==============================] - 10s 56ms/step - loss: 0.0059 - accuracy: 0.1736\n",
            "Epoch 52/100\n",
            "185/185 [==============================] - 10s 56ms/step - loss: 0.0059 - accuracy: 0.1736\n",
            "Epoch 53/100\n",
            "185/185 [==============================] - 10s 56ms/step - loss: 0.0053 - accuracy: 0.1736\n",
            "Epoch 54/100\n",
            "185/185 [==============================] - 10s 56ms/step - loss: 0.0054 - accuracy: 0.1737\n",
            "Epoch 55/100\n",
            "185/185 [==============================] - 10s 56ms/step - loss: 0.0050 - accuracy: 0.1737\n",
            "Epoch 56/100\n",
            "185/185 [==============================] - 10s 56ms/step - loss: 0.0050 - accuracy: 0.1737\n",
            "Epoch 57/100\n",
            "185/185 [==============================] - 10s 56ms/step - loss: 0.0050 - accuracy: 0.1737\n",
            "Epoch 58/100\n",
            "185/185 [==============================] - 10s 56ms/step - loss: 0.0049 - accuracy: 0.1737\n",
            "Epoch 59/100\n",
            "185/185 [==============================] - 10s 56ms/step - loss: 0.0044 - accuracy: 0.1738\n",
            "Epoch 60/100\n",
            "185/185 [==============================] - 10s 56ms/step - loss: 0.0044 - accuracy: 0.1738\n",
            "Epoch 61/100\n",
            "185/185 [==============================] - 10s 56ms/step - loss: 0.0044 - accuracy: 0.1738\n",
            "Epoch 62/100\n",
            "185/185 [==============================] - 10s 56ms/step - loss: 0.0044 - accuracy: 0.1738\n",
            "Epoch 63/100\n",
            "185/185 [==============================] - 10s 56ms/step - loss: 0.0040 - accuracy: 0.1739\n",
            "Epoch 64/100\n",
            "185/185 [==============================] - 10s 56ms/step - loss: 0.0038 - accuracy: 0.1740\n",
            "Epoch 65/100\n",
            "185/185 [==============================] - 10s 56ms/step - loss: 0.0039 - accuracy: 0.1740\n",
            "Epoch 66/100\n",
            "185/185 [==============================] - 10s 56ms/step - loss: 0.0036 - accuracy: 0.1739\n",
            "Epoch 67/100\n",
            "185/185 [==============================] - 10s 56ms/step - loss: 0.0037 - accuracy: 0.1740\n",
            "Epoch 68/100\n",
            "185/185 [==============================] - 10s 56ms/step - loss: 0.0035 - accuracy: 0.1740\n",
            "Epoch 69/100\n",
            "185/185 [==============================] - 10s 56ms/step - loss: 0.0034 - accuracy: 0.1740\n",
            "Epoch 70/100\n",
            "185/185 [==============================] - 10s 56ms/step - loss: 0.0033 - accuracy: 0.1741\n",
            "Epoch 71/100\n",
            "185/185 [==============================] - 10s 56ms/step - loss: 0.0034 - accuracy: 0.1740\n",
            "Epoch 72/100\n",
            "185/185 [==============================] - 10s 56ms/step - loss: 0.0036 - accuracy: 0.1739\n",
            "Epoch 73/100\n",
            "185/185 [==============================] - 10s 56ms/step - loss: 0.0031 - accuracy: 0.1740\n",
            "Epoch 74/100\n",
            "185/185 [==============================] - 10s 56ms/step - loss: 0.0031 - accuracy: 0.1740\n",
            "Epoch 75/100\n",
            "185/185 [==============================] - 10s 56ms/step - loss: 0.0031 - accuracy: 0.1741\n",
            "Epoch 76/100\n",
            "185/185 [==============================] - 10s 56ms/step - loss: 0.0029 - accuracy: 0.1741\n",
            "Epoch 77/100\n",
            "185/185 [==============================] - 10s 56ms/step - loss: 0.0029 - accuracy: 0.1741\n",
            "Epoch 78/100\n",
            "185/185 [==============================] - 10s 56ms/step - loss: 0.0027 - accuracy: 0.1741\n",
            "Epoch 79/100\n",
            "185/185 [==============================] - 10s 56ms/step - loss: 0.0028 - accuracy: 0.1741\n",
            "Epoch 80/100\n",
            "185/185 [==============================] - 10s 56ms/step - loss: 0.0029 - accuracy: 0.1741\n",
            "Epoch 81/100\n",
            "185/185 [==============================] - 11s 58ms/step - loss: 0.0025 - accuracy: 0.1742\n",
            "Epoch 82/100\n",
            "185/185 [==============================] - 10s 56ms/step - loss: 0.0025 - accuracy: 0.1742\n",
            "Epoch 83/100\n",
            "185/185 [==============================] - 10s 56ms/step - loss: 0.0025 - accuracy: 0.1741\n",
            "Epoch 84/100\n",
            "185/185 [==============================] - 10s 56ms/step - loss: 0.0026 - accuracy: 0.1741\n",
            "Epoch 85/100\n",
            "185/185 [==============================] - 10s 56ms/step - loss: 0.0027 - accuracy: 0.1741\n",
            "Epoch 86/100\n",
            "185/185 [==============================] - 10s 56ms/step - loss: 0.0025 - accuracy: 0.1741\n",
            "Epoch 87/100\n",
            "185/185 [==============================] - 10s 57ms/step - loss: 0.0026 - accuracy: 0.1741\n",
            "Epoch 88/100\n",
            "185/185 [==============================] - 10s 56ms/step - loss: 0.0022 - accuracy: 0.1742\n",
            "Epoch 89/100\n",
            "185/185 [==============================] - 10s 56ms/step - loss: 0.0024 - accuracy: 0.1741\n",
            "Epoch 90/100\n",
            "185/185 [==============================] - 10s 56ms/step - loss: 0.0020 - accuracy: 0.1742\n",
            "Epoch 91/100\n",
            "185/185 [==============================] - 10s 56ms/step - loss: 0.0021 - accuracy: 0.1742\n",
            "Epoch 92/100\n",
            "185/185 [==============================] - 11s 57ms/step - loss: 0.0021 - accuracy: 0.1742\n",
            "Epoch 93/100\n",
            "185/185 [==============================] - 10s 56ms/step - loss: 0.0021 - accuracy: 0.1741\n",
            "Epoch 94/100\n",
            "185/185 [==============================] - 10s 56ms/step - loss: 0.0021 - accuracy: 0.1742\n",
            "Epoch 95/100\n",
            "185/185 [==============================] - 10s 56ms/step - loss: 0.0020 - accuracy: 0.1742\n",
            "Epoch 96/100\n",
            "185/185 [==============================] - 10s 56ms/step - loss: 0.0019 - accuracy: 0.1742\n",
            "Epoch 97/100\n",
            "185/185 [==============================] - 10s 56ms/step - loss: 0.0021 - accuracy: 0.1741\n",
            "Epoch 98/100\n",
            "185/185 [==============================] - 10s 56ms/step - loss: 0.0019 - accuracy: 0.1742\n",
            "Epoch 99/100\n",
            "185/185 [==============================] - 10s 56ms/step - loss: 0.0018 - accuracy: 0.1742\n",
            "Epoch 100/100\n",
            "185/185 [==============================] - 10s 56ms/step - loss: 0.0019 - accuracy: 0.1742\n"
          ]
        },
        {
          "output_type": "execute_result",
          "data": {
            "text/plain": [
              "<keras.callbacks.History at 0x7f3e94788050>"
            ]
          },
          "metadata": {},
          "execution_count": 38
        }
      ]
    },
    {
      "cell_type": "markdown",
      "metadata": {
        "id": "OcWmcr9QUrKF"
      },
      "source": [
        "### STEP 5: 모델 평가하기"
      ]
    },
    {
      "cell_type": "markdown",
      "source": [
        "#### Step 1에서 선택한 전처리 방법을 고려하여 입력된문장에 대해서 대답을 얻는 예측함수를 만듬."
      ],
      "metadata": {
        "id": "03Eri0eQZXuR"
      }
    },
    {
      "cell_type": "code",
      "source": [
        "def decoder_inference(sentence):\n",
        "  sentence = preprocess_sentence(sentence)\n",
        "\n",
        "  # 입력된 문장을 정수 인코딩 후, 시작 토큰과 종료 토큰을 앞뒤로 추가.\n",
        "  # ex) Where have you been? → [[8331   86   30    5 1059    7 8332]]\n",
        "  sentence = tf.expand_dims(\n",
        "      START_TOKEN + tokenizer.encode(sentence) + END_TOKEN, axis=0)\n",
        "\n",
        "  # 디코더의 현재까지의 예측한 출력 시퀀스가 지속적으로 저장되는 변수.\n",
        "  # 처음에는 예측한 내용이 없음으로 시작 토큰만 별도 저장. ex) 8331\n",
        "  output_sequence = tf.expand_dims(START_TOKEN, 0)\n",
        "\n",
        "  # 디코더의 인퍼런스 단계\n",
        "  for i in range(MAX_LENGTH):\n",
        "    # 디코더는 최대 MAX_LENGTH의 길이만큼 다음 단어 예측을 반복.\n",
        "    predictions = model(inputs=[sentence, output_sequence], training=False)\n",
        "    predictions = predictions[:, -1:, :]\n",
        "\n",
        "    # 현재 예측한 단어의 정수\n",
        "    predicted_id = tf.cast(tf.argmax(predictions, axis=-1), tf.int32)\n",
        "\n",
        "    # 만약 현재 예측한 단어가 종료 토큰이라면 for문을 종료\n",
        "    if tf.equal(predicted_id, END_TOKEN[0]):\n",
        "      break\n",
        "\n",
        "    # 예측한 단어들은 지속적으로 output_sequence에 추가.\n",
        "    # 이 output_sequence는 다시 디코더의 입력.\n",
        "    output_sequence = tf.concat([output_sequence, predicted_id], axis=-1)\n",
        "\n",
        "  return tf.squeeze(output_sequence, axis=0)"
      ],
      "metadata": {
        "id": "caIIQD1pZftN"
      },
      "execution_count": 39,
      "outputs": []
    },
    {
      "cell_type": "code",
      "source": [
        "def sentence_generation(sentence):\n",
        "  # 입력 문장에 대해서 디코더를 동작 시켜 예측된 정수 시퀀스를 리턴.\n",
        "  prediction = decoder_inference(sentence)\n",
        "\n",
        "  # 정수 시퀀스를 다시 텍스트 시퀀스로 변환.\n",
        "  predicted_sentence = tokenizer.decode(\n",
        "      [i for i in prediction if i < tokenizer.vocab_size])\n",
        "\n",
        "  print('입력 : {}'.format(sentence))\n",
        "  print('출력 : {}'.format(predicted_sentence))\n",
        "\n",
        "  return predicted_sentence"
      ],
      "metadata": {
        "id": "Nw6PHr0SZjV7"
      },
      "execution_count": 40,
      "outputs": []
    },
    {
      "cell_type": "code",
      "source": [
        "def sentence_generation(sentence):\n",
        "  # 입력 문장에 대해서 디코더를 동작 시켜 예측된 정수 시퀀스를 리턴.\n",
        "  prediction = decoder_inference(sentence)\n",
        "\n",
        "  # 정수 시퀀스를 다시 텍스트 시퀀스로 변환.\n",
        "  predicted_sentence = tokenizer.decode(\n",
        "      [i for i in prediction if i < tokenizer.vocab_size])\n",
        "\n",
        "  print('입력 : {}'.format(sentence))\n",
        "  print('출력 : {}'.format(predicted_sentence))\n",
        "\n",
        "  return predicted_sentence"
      ],
      "metadata": {
        "id": "MCwFrdW_Znwt"
      },
      "execution_count": 41,
      "outputs": []
    },
    {
      "cell_type": "markdown",
      "source": [
        "모델 평가용 입력 문장리스트 & 함수"
      ],
      "metadata": {
        "id": "Bzf6AdZOpduP"
      }
    },
    {
      "cell_type": "code",
      "source": [
        "input_question_8 = [\n",
        "    \"배고파\",\n",
        "    \"저녁 뭐 먹지?\",\n",
        "    \"여행 가고싶어\",\n",
        "    \"요즘 너무 피곤해\",\n",
        "    \"비가 내리네\",\n",
        "    \"기다려\",\n",
        "    \"인생이란 무엇일까\",\n",
        "    \"명언 아무거나 말해줘\"\n",
        "]\n"
      ],
      "metadata": {
        "id": "4GHVzUYjpgLD"
      },
      "execution_count": 75,
      "outputs": []
    },
    {
      "cell_type": "code",
      "source": [
        "def print_transformer_Q_A(input_question_8):\n",
        "    for input_qusetion in input_question_8:\n",
        "        sentence_generation(input_qusetion)\n",
        "        print()"
      ],
      "metadata": {
        "id": "BkIcTbAMpzDS"
      },
      "execution_count": 74,
      "outputs": []
    },
    {
      "cell_type": "markdown",
      "source": [
        "#### 답변 모음"
      ],
      "metadata": {
        "id": "5Bynhmu4ZvBC"
      }
    },
    {
      "cell_type": "code",
      "source": [
        "print_transformer_Q_A(input_question_8)"
      ],
      "metadata": {
        "colab": {
          "base_uri": "https://localhost:8080/"
        },
        "id": "-4FZuGzop8YK",
        "outputId": "67b455e8-32a1-459c-c5c2-6e6deedd8b8d"
      },
      "execution_count": 76,
      "outputs": [
        {
          "output_type": "stream",
          "name": "stdout",
          "text": [
            "입력 : 배고파\n",
            "출력 : 뭐 좀 챙겨드세요 .\n",
            "\n",
            "입력 : 저녁 뭐 먹지?\n",
            "출력 : 맛있는 거 드세요 .\n",
            "\n",
            "입력 : 여행 가고싶어\n",
            "출력 : 가면 저도 데려가세요 .\n",
            "\n",
            "입력 : 요즘 너무 피곤해\n",
            "출력 : 푹 쉬세요 .\n",
            "\n",
            "입력 : 비가 내리네\n",
            "출력 : 그러게요 . 비가 추적추적 내려요 .\n",
            "\n",
            "입력 : 기다려\n",
            "출력 : 상대방에게 너무 무거운 짐을 주지 마세요 .\n",
            "\n",
            "입력 : 인생이란 무엇일까\n",
            "출력 : 서로 더 많이 아껴주세요 .\n",
            "\n",
            "입력 : 명언 아무거나 말해줘\n",
            "출력 : 나 자신에 집중하세요 . 언제나 순위에 자신을 두세요 .\n",
            "\n"
          ]
        }
      ]
    },
    {
      "cell_type": "markdown",
      "source": [
        "질문에 맞는 적절한 대답을 하는 것처럼은 보임  \n",
        "현재 비가 내리지 않음에도 비가 내린다고 답변(상황 파악을 하지 못하는 것으로 보임)  \n",
        "앞서 말한 대답과 반대되는 답변(전후 맥락을 기억하지 못하는 것으로 보임)  \n"
      ],
      "metadata": {
        "id": "DsCFmr5RqMWg"
      }
    },
    {
      "cell_type": "markdown",
      "metadata": {
        "id": "avArbcmxUrKG"
      },
      "source": [
        "---"
      ]
    },
    {
      "cell_type": "markdown",
      "metadata": {
        "id": "DU9CpxAAUrKH"
      },
      "source": [
        "### 루브릭."
      ]
    },
    {
      "cell_type": "markdown",
      "metadata": {
        "id": "iy-bWkfuUrKH"
      },
      "source": [
        "|평가문항|비고|상세기준|비고 |\n",
        "|:---|:---:|:---|---:|\n",
        "|1. 한국어 전처리를 통해 학습 데이터셋을 구축하였다. | |공백과 특수문자 처리, 토크나이징, 병렬데이터 구축의 과정이 적절히 진행되었다. | |\n",
        "|2. 트랜스포머 모델을 구현하여 한국어 챗봇 모델 학습을 정상적으로 진행하였다. | |구현한 트랜스포머 모델이 한국어 병렬 데이터 학습 시 안정적으로 수렴하였다. | |\n",
        "|3. 한국어 입력문장에 대해 한국어로 답변하는 함수를 구현하였다. | |한국어 입력문장에 그럴듯한 한국어로 답변을 리턴하였다. | |"
      ]
    },
    {
      "cell_type": "markdown",
      "metadata": {
        "id": "ikWIc9zgUrKI"
      },
      "source": [
        "---"
      ]
    },
    {
      "cell_type": "markdown",
      "metadata": {
        "id": "IHAZWiRBUrKJ"
      },
      "source": [
        "### 회고록."
      ]
    },
    {
      "cell_type": "markdown",
      "metadata": {
        "id": "iE92rMLWUrKJ"
      },
      "source": [
        "질문과 답변이라는 대화의 원리를 응용한 데이터를 사용하여 Transformer 모델을 기반으로 한 인코더-디코더 구조 그리고 어텐션을 이해해 코드로 구현해 스마트한 한국어 챗봇을 만들어보는 11번째 Exploration 프로젝트였다.  \n",
        "과거 챗봇들은 지정한 질문을 제외한 대답들에 대해 오로지 '대답할 수 없습니다'밖에 하지 못해다.   \n",
        "어떻게 보면 딱딱하게 느껴지고 인간적으로 봤을 때 수동적, 자유도가 없어 보인다고 말할 수 있을 것이다.     \n",
        "이번 프로젝트에서의 챗봇은 어떤 질문에도 가장 큰 연관을 보이는 답변을 찾아내어 어떠한 문장이든(설령 그게 생뚱맞은 대답일지라도)출력하여 자유롭지만 그렇다고 아무 말이나 하는 것은 아닌 그 중간을 한국어로 구현하는 것이 목표였는데 사실 그리 만족스럽지는 않았다.   \n",
        "epoch를 낮추거나 높였을 때 문장의 형태는 바뀌지만 epoch가 다르다고(정확히는 일정 수준에 도달한 loss, accuracy가 이후 값이 바뀌어도) 해서 과연 그 대답이 질문에 맞는 대답인가 더 수준 높은 대답인가에 대한 객관적인 평가를 하기 어려웠기 때문이다.   \n",
        "사람들은 흔히들 교양있는 대화를 한다고 하면 여러 배경지식과 상황에 맞는 매너와 용어들을 사용하거나 상대방에게 깊은 깨달음이나 변화를 주는 문장을 사용한다.  \n",
        "그러나 현재 이 프로젝트에서 인공지능은 화자의 입장과 상황을 학습하지 못했기에 그냥 자신이 알고 있는 용어들만 내뱉는 것인데, 이를 일반적인 상황에 비유하자면 앞뒤가 꽉막히고 눈치도 없어 자기 할말만 하는 사람과 대화하는 것과 차이가 없는 것처럼 느껴졌다.   \n",
        "아마도 사람은 상대방과 대화하면서 맥락과 상황에 대해 학습하게 되는데 현재 이 모델은 이러한 상황을 학습하지 못하기 때문일 것이다.  \n",
        "인공지능의 성능을 더 높이기 위해서 화자의 속성(비슷한 사용자데이터를 갖고온다던지), 상황(대화전에 사용자의 여러 상황을 학습해 사용자의 상황에 맞춘), 그리고 대화하며 화자가 내뱉는 말들에 맞춰서 다른 대답을 꺼낼 수 있도록 실시간으로 문맥을 파악할 수 있도록 한다면 그때는 더 자연스러운 모델을 만들 수 있지 않을까싶다.  \n",
        "\n",
        "\n",
        "NLP 모델들이 점점 더 많아지고 있음. 각 모델들의 성능 그리고 원리를 깨달아 적절한 한국어 모델링을 직접 구현해볼 수 있는 단계까지 나아가고 싶음. 영어와 한국어의 문법체계가 다르다는 것에 맞춰 모델을 설계하고 '.' 나 ',' 같은 특수문자들도 적절하게 전처리와 학습, 출력해내는 것을 목표로 할 필요가 있음.\n",
        "\n"
      ]
    },
    {
      "cell_type": "markdown",
      "metadata": {
        "id": "fVRC64f8UrKK"
      },
      "source": [
        "----"
      ]
    },
    {
      "cell_type": "markdown",
      "metadata": {
        "id": "pnGNO7xWUrKK"
      },
      "source": [
        "### Reference. (APA)"
      ]
    },
    {
      "cell_type": "markdown",
      "metadata": {
        "id": "B2R3TBdrUrKL"
      },
      "source": [
        "\n",
        "유원준 외 1명.(2022). 딥 러닝을 이용한 자연어 처리 입문. 위키독스\n",
        "\n",
        "트랜스포머(어텐션 이즈 올 유 니드).(2022.06.10). URL: https://www.youtube.com/watch?v=mxGCEWOxfe8&ab_channel=MinsukHeo%ED%97%88%EB%AF%BC%EC%84%9D  \n"
      ]
    },
    {
      "cell_type": "markdown",
      "metadata": {
        "id": "quXhAfQ0UrKL"
      },
      "source": [
        "-----"
      ]
    }
  ],
  "metadata": {
    "interpreter": {
      "hash": "a59dc1dcb280767e1541beb883352acbe24e77c028211ef192031d7df32c832b"
    },
    "kernelspec": {
      "display_name": "Python 3.9.7 ('venv': venv)",
      "language": "python",
      "name": "python3"
    },
    "language_info": {
      "name": "python",
      "version": "3.9.7"
    },
    "orig_nbformat": 4,
    "colab": {
      "name": "[E-11]pr1_transfomer.ipynb",
      "provenance": [],
      "collapsed_sections": [],
      "machine_shape": "hm"
    },
    "accelerator": "GPU",
    "gpuClass": "standard"
  },
  "nbformat": 4,
  "nbformat_minor": 0
}